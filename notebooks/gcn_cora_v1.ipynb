{
 "cells": [
  {
   "cell_type": "markdown",
   "id": "c5ace95b",
   "metadata": {},
   "source": [
    "The Cora dataset consists of 2708 scientific publications classified into one of seven classes. The citation network consists of 5429 links. Each publication in the dataset is described by a 0/1-valued word vector indicating the absence/presence of the corresponding word from the dictionary. The dictionary consists of 1433 unique words."
   ]
  },
  {
   "cell_type": "code",
   "execution_count": 2,
   "id": "70d8433c",
   "metadata": {},
   "outputs": [],
   "source": [
    "%load_ext autoreload\n",
    "%autoreload 2"
   ]
  },
  {
   "cell_type": "code",
   "execution_count": 3,
   "id": "4bcecfc4",
   "metadata": {},
   "outputs": [],
   "source": [
    "import sys\n",
    "import numpy as np\n",
    "import networkx as nx\n",
    "import torch\n",
    "from torch_geometric.datasets import TUDataset, Planetoid\n",
    "from torch_geometric.transforms import NormalizeFeatures\n",
    "\n",
    "sys.path.append(\"..\")\n",
    "from models.gcn.gcn_3layer import GCN\n",
    "from utils.seed_everything import seed_everything"
   ]
  },
  {
   "cell_type": "code",
   "execution_count": 4,
   "id": "124c86f2",
   "metadata": {},
   "outputs": [],
   "source": [
    "seed_everything()"
   ]
  },
  {
   "cell_type": "code",
   "execution_count": 5,
   "id": "f5133df7",
   "metadata": {},
   "outputs": [
    {
     "name": "stdout",
     "output_type": "stream",
     "text": [
      "\n",
      "Dataset: Cora():\n",
      "====================\n",
      "Number of graphs: 1\n",
      "Number of features: 1433\n",
      "Number of classes: 7\n",
      "\n",
      "Data(x=[2708, 1433], edge_index=[2, 10556], y=[2708], train_mask=[2708], val_mask=[2708], test_mask=[2708])\n",
      "=============================================================\n",
      "Number of nodes: 2708\n",
      "Number of edges: 10556\n",
      "Average node degree: 3.90\n",
      "Has isolated nodes: False\n",
      "Has self-loops: False\n",
      "Is undirected: True\n"
     ]
    }
   ],
   "source": [
    "dataset = Planetoid(root='data/Planetoid', name='Cora', transform=NormalizeFeatures(), split=\"public\")\n",
    "\n",
    "print()\n",
    "print(f'Dataset: {dataset}:')\n",
    "print('====================')\n",
    "print(f'Number of graphs: {len(dataset)}')\n",
    "print(f'Number of features: {dataset.num_features}')\n",
    "print(f'Number of classes: {dataset.num_classes}')\n",
    "\n",
    "data = dataset[0]  # Get the first graph object.\n",
    "\n",
    "print()\n",
    "print(data)\n",
    "print('=============================================================')\n",
    "\n",
    "# Gather some statistics about the first graph.\n",
    "print(f'Number of nodes: {data.num_nodes}')\n",
    "print(f'Number of edges: {data.num_edges}')\n",
    "print(f'Average node degree: {data.num_edges / data.num_nodes:.2f}')\n",
    "print(f'Has isolated nodes: {data.has_isolated_nodes()}')\n",
    "print(f'Has self-loops: {data.has_self_loops()}')\n",
    "print(f'Is undirected: {data.is_undirected()}')"
   ]
  },
  {
   "cell_type": "code",
   "execution_count": 19,
   "id": "4a141709",
   "metadata": {},
   "outputs": [
    {
     "data": {
      "text/plain": [
       "(array([0, 1, 2, 3, 4, 5, 6]), array([351, 217, 418, 818, 426, 298, 180]))"
      ]
     },
     "execution_count": 19,
     "metadata": {},
     "output_type": "execute_result"
    }
   ],
   "source": [
    "np.unique(data.y, return_counts=True)"
   ]
  },
  {
   "cell_type": "code",
   "execution_count": 22,
   "id": "db973945",
   "metadata": {},
   "outputs": [
    {
     "data": {
      "text/plain": [
       "torch.Size([2, 10556])"
      ]
     },
     "execution_count": 22,
     "metadata": {},
     "output_type": "execute_result"
    }
   ],
   "source": [
    "data.edge_index.shape"
   ]
  },
  {
   "cell_type": "code",
   "execution_count": 23,
   "id": "00e19ab9",
   "metadata": {},
   "outputs": [
    {
     "data": {
      "text/plain": [
       "tensor([[ 633, 1862, 2582,  ...,  598, 1473, 2706],\n",
       "        [   0,    0,    0,  ..., 2707, 2707, 2707]])"
      ]
     },
     "execution_count": 23,
     "metadata": {},
     "output_type": "execute_result"
    }
   ],
   "source": [
    "data.edge_index"
   ]
  },
  {
   "cell_type": "code",
   "execution_count": 6,
   "id": "2deadcf9",
   "metadata": {},
   "outputs": [
    {
     "data": {
      "text/plain": [
       "tensor([ 633, 1862, 2582,  ...,  598, 1473, 2706])"
      ]
     },
     "execution_count": 6,
     "metadata": {},
     "output_type": "execute_result"
    }
   ],
   "source": [
    "data.edge_index[0]"
   ]
  },
  {
   "cell_type": "code",
   "execution_count": 7,
   "id": "2c167145",
   "metadata": {},
   "outputs": [
    {
     "name": "stdout",
     "output_type": "stream",
     "text": [
      "torch.Size([2, 10556])\n",
      "Number of unique undirected edges: 5278\n"
     ]
    }
   ],
   "source": [
    "edge_index = data.edge_index\n",
    "print(edge_index.shape)  # [2, 10556]\n",
    "\n",
    "# Count unique undirected edges\n",
    "edges = edge_index.t().tolist()  # list of (source, target)\n",
    "undirected_edges = set(tuple(sorted(edge)) for edge in edges)\n",
    "\n",
    "print(\"Number of unique undirected edges:\", len(undirected_edges))"
   ]
  },
  {
   "cell_type": "code",
   "execution_count": 26,
   "id": "7d80abf4",
   "metadata": {},
   "outputs": [],
   "source": [
    "torch.manual_seed(12345)\n",
    "dataset = dataset.shuffle()\n",
    "\n",
    "train_dataset = dataset[:150]\n",
    "test_dataset = dataset[150:]\n",
    "\n"
   ]
  },
  {
   "cell_type": "code",
   "execution_count": 27,
   "id": "8d76ddb0",
   "metadata": {},
   "outputs": [
    {
     "name": "stdout",
     "output_type": "stream",
     "text": [
      "Step 1:\n",
      "=======\n",
      "Number of graphs in the current batch: 1\n",
      "DataBatch(x=[2708, 1433], edge_index=[2, 10556], y=[2708], train_mask=[2708], val_mask=[2708], test_mask=[2708], batch=[2708], ptr=[2])\n",
      "\n"
     ]
    }
   ],
   "source": [
    "from torch_geometric.loader import DataLoader\n",
    "\n",
    "train_loader = DataLoader(train_dataset, batch_size=64, shuffle=True)\n",
    "test_loader = DataLoader(test_dataset, batch_size=64, shuffle=False)\n",
    "\n",
    "for step, data in enumerate(train_loader):\n",
    "    print(f'Step {step + 1}:')\n",
    "    print('=======')\n",
    "    print(f'Number of graphs in the current batch: {data.num_graphs}')\n",
    "    print(data)\n",
    "    print()"
   ]
  },
  {
   "cell_type": "code",
   "execution_count": null,
   "id": "9891c432",
   "metadata": {},
   "outputs": [
    {
     "data": {
      "application/javascript": "google.colab.output.setIframeHeight(0, true, {maxHeight: 300})",
      "text/plain": [
       "<IPython.core.display.Javascript object>"
      ]
     },
     "metadata": {},
     "output_type": "display_data"
    },
    {
     "name": "stdout",
     "output_type": "stream",
     "text": [
      "Epoch: 001, Train Acc: 0.6467, Test Acc: 0.7368\n",
      "Epoch: 002, Train Acc: 0.6467, Test Acc: 0.7368\n",
      "Epoch: 003, Train Acc: 0.6467, Test Acc: 0.7368\n",
      "Epoch: 004, Train Acc: 0.6467, Test Acc: 0.7368\n",
      "Epoch: 005, Train Acc: 0.6467, Test Acc: 0.7368\n",
      "Epoch: 006, Train Acc: 0.6533, Test Acc: 0.7368\n",
      "Epoch: 007, Train Acc: 0.7133, Test Acc: 0.7632\n",
      "Epoch: 008, Train Acc: 0.6867, Test Acc: 0.7632\n",
      "Epoch: 009, Train Acc: 0.7267, Test Acc: 0.7632\n",
      "Epoch: 010, Train Acc: 0.7200, Test Acc: 0.7895\n",
      "Epoch: 011, Train Acc: 0.7267, Test Acc: 0.7632\n",
      "Epoch: 012, Train Acc: 0.7133, Test Acc: 0.7895\n",
      "Epoch: 013, Train Acc: 0.7200, Test Acc: 0.7895\n",
      "Epoch: 014, Train Acc: 0.7200, Test Acc: 0.7895\n",
      "Epoch: 015, Train Acc: 0.7333, Test Acc: 0.7632\n",
      "Epoch: 016, Train Acc: 0.7333, Test Acc: 0.7895\n",
      "Epoch: 017, Train Acc: 0.7200, Test Acc: 0.7895\n",
      "Epoch: 018, Train Acc: 0.7467, Test Acc: 0.7368\n",
      "Epoch: 019, Train Acc: 0.7467, Test Acc: 0.7368\n",
      "Epoch: 020, Train Acc: 0.7200, Test Acc: 0.8684\n",
      "Epoch: 021, Train Acc: 0.7400, Test Acc: 0.7895\n",
      "Epoch: 022, Train Acc: 0.7600, Test Acc: 0.7632\n",
      "Epoch: 023, Train Acc: 0.7533, Test Acc: 0.7632\n",
      "Epoch: 024, Train Acc: 0.7600, Test Acc: 0.7895\n",
      "Epoch: 025, Train Acc: 0.7600, Test Acc: 0.7632\n",
      "Epoch: 026, Train Acc: 0.7467, Test Acc: 0.7632\n",
      "Epoch: 027, Train Acc: 0.7600, Test Acc: 0.7895\n",
      "Epoch: 028, Train Acc: 0.7533, Test Acc: 0.7632\n",
      "Epoch: 029, Train Acc: 0.7667, Test Acc: 0.7895\n",
      "Epoch: 030, Train Acc: 0.7533, Test Acc: 0.7632\n",
      "Epoch: 031, Train Acc: 0.7600, Test Acc: 0.7632\n",
      "Epoch: 032, Train Acc: 0.7667, Test Acc: 0.7895\n",
      "Epoch: 033, Train Acc: 0.7800, Test Acc: 0.8158\n",
      "Epoch: 034, Train Acc: 0.7600, Test Acc: 0.7632\n",
      "Epoch: 035, Train Acc: 0.7533, Test Acc: 0.7632\n",
      "Epoch: 036, Train Acc: 0.7667, Test Acc: 0.7895\n",
      "Epoch: 037, Train Acc: 0.7800, Test Acc: 0.8158\n",
      "Epoch: 038, Train Acc: 0.7533, Test Acc: 0.7632\n",
      "Epoch: 039, Train Acc: 0.7600, Test Acc: 0.7632\n",
      "Epoch: 040, Train Acc: 0.7800, Test Acc: 0.8158\n",
      "Epoch: 041, Train Acc: 0.7600, Test Acc: 0.7632\n",
      "Epoch: 042, Train Acc: 0.7600, Test Acc: 0.7632\n",
      "Epoch: 043, Train Acc: 0.7600, Test Acc: 0.7632\n",
      "Epoch: 044, Train Acc: 0.7800, Test Acc: 0.7895\n",
      "Epoch: 045, Train Acc: 0.7733, Test Acc: 0.7895\n",
      "Epoch: 046, Train Acc: 0.7533, Test Acc: 0.7632\n",
      "Epoch: 047, Train Acc: 0.7667, Test Acc: 0.7895\n",
      "Epoch: 048, Train Acc: 0.7600, Test Acc: 0.7632\n",
      "Epoch: 049, Train Acc: 0.7467, Test Acc: 0.7368\n",
      "Epoch: 050, Train Acc: 0.7733, Test Acc: 0.7895\n",
      "Epoch: 051, Train Acc: 0.7733, Test Acc: 0.7895\n",
      "Epoch: 052, Train Acc: 0.7467, Test Acc: 0.7368\n",
      "Epoch: 053, Train Acc: 0.7800, Test Acc: 0.8158\n",
      "Epoch: 054, Train Acc: 0.7800, Test Acc: 0.7895\n",
      "Epoch: 055, Train Acc: 0.7600, Test Acc: 0.7632\n",
      "Epoch: 056, Train Acc: 0.7467, Test Acc: 0.7368\n",
      "Epoch: 057, Train Acc: 0.7600, Test Acc: 0.7632\n",
      "Epoch: 058, Train Acc: 0.7733, Test Acc: 0.7895\n",
      "Epoch: 059, Train Acc: 0.7600, Test Acc: 0.7632\n",
      "Epoch: 060, Train Acc: 0.7667, Test Acc: 0.7632\n",
      "Epoch: 061, Train Acc: 0.7533, Test Acc: 0.7632\n",
      "Epoch: 062, Train Acc: 0.7667, Test Acc: 0.7632\n",
      "Epoch: 063, Train Acc: 0.7667, Test Acc: 0.7895\n",
      "Epoch: 064, Train Acc: 0.7733, Test Acc: 0.8158\n",
      "Epoch: 065, Train Acc: 0.7533, Test Acc: 0.7632\n",
      "Epoch: 066, Train Acc: 0.7667, Test Acc: 0.7632\n",
      "Epoch: 067, Train Acc: 0.7667, Test Acc: 0.7895\n",
      "Epoch: 068, Train Acc: 0.7733, Test Acc: 0.7895\n",
      "Epoch: 069, Train Acc: 0.7800, Test Acc: 0.8158\n",
      "Epoch: 070, Train Acc: 0.7733, Test Acc: 0.7632\n",
      "Epoch: 071, Train Acc: 0.7733, Test Acc: 0.8158\n",
      "Epoch: 072, Train Acc: 0.7733, Test Acc: 0.8158\n",
      "Epoch: 073, Train Acc: 0.7667, Test Acc: 0.7632\n",
      "Epoch: 074, Train Acc: 0.7467, Test Acc: 0.7632\n",
      "Epoch: 075, Train Acc: 0.7867, Test Acc: 0.7895\n",
      "Epoch: 076, Train Acc: 0.7733, Test Acc: 0.8158\n",
      "Epoch: 077, Train Acc: 0.7733, Test Acc: 0.7632\n",
      "Epoch: 078, Train Acc: 0.7733, Test Acc: 0.8158\n",
      "Epoch: 079, Train Acc: 0.7800, Test Acc: 0.7895\n",
      "Epoch: 080, Train Acc: 0.7667, Test Acc: 0.7895\n",
      "Epoch: 081, Train Acc: 0.7933, Test Acc: 0.8158\n",
      "Epoch: 082, Train Acc: 0.7733, Test Acc: 0.7895\n",
      "Epoch: 083, Train Acc: 0.7467, Test Acc: 0.7368\n",
      "Epoch: 084, Train Acc: 0.7733, Test Acc: 0.7895\n",
      "Epoch: 085, Train Acc: 0.7733, Test Acc: 0.7895\n",
      "Epoch: 086, Train Acc: 0.7733, Test Acc: 0.7632\n",
      "Epoch: 087, Train Acc: 0.7800, Test Acc: 0.8158\n",
      "Epoch: 088, Train Acc: 0.7800, Test Acc: 0.7895\n",
      "Epoch: 089, Train Acc: 0.7733, Test Acc: 0.8158\n",
      "Epoch: 090, Train Acc: 0.7733, Test Acc: 0.7632\n",
      "Epoch: 091, Train Acc: 0.7733, Test Acc: 0.8158\n",
      "Epoch: 092, Train Acc: 0.7733, Test Acc: 0.8158\n",
      "Epoch: 093, Train Acc: 0.7733, Test Acc: 0.7632\n",
      "Epoch: 094, Train Acc: 0.7667, Test Acc: 0.7632\n",
      "Epoch: 095, Train Acc: 0.7733, Test Acc: 0.7895\n",
      "Epoch: 096, Train Acc: 0.7667, Test Acc: 0.7895\n",
      "Epoch: 097, Train Acc: 0.7733, Test Acc: 0.7895\n",
      "Epoch: 098, Train Acc: 0.7800, Test Acc: 0.8158\n",
      "Epoch: 099, Train Acc: 0.7800, Test Acc: 0.7895\n",
      "Epoch: 100, Train Acc: 0.7667, Test Acc: 0.7632\n",
      "Epoch: 101, Train Acc: 0.7933, Test Acc: 0.7895\n",
      "Epoch: 102, Train Acc: 0.7933, Test Acc: 0.7895\n",
      "Epoch: 103, Train Acc: 0.7600, Test Acc: 0.7368\n",
      "Epoch: 104, Train Acc: 0.7667, Test Acc: 0.7632\n",
      "Epoch: 105, Train Acc: 0.7800, Test Acc: 0.8158\n",
      "Epoch: 106, Train Acc: 0.7733, Test Acc: 0.7895\n",
      "Epoch: 107, Train Acc: 0.7467, Test Acc: 0.7368\n",
      "Epoch: 108, Train Acc: 0.7733, Test Acc: 0.8158\n",
      "Epoch: 109, Train Acc: 0.8000, Test Acc: 0.8158\n",
      "Epoch: 110, Train Acc: 0.7733, Test Acc: 0.8158\n",
      "Epoch: 111, Train Acc: 0.7667, Test Acc: 0.7895\n",
      "Epoch: 112, Train Acc: 0.7733, Test Acc: 0.7105\n",
      "Epoch: 113, Train Acc: 0.7867, Test Acc: 0.7895\n",
      "Epoch: 114, Train Acc: 0.8200, Test Acc: 0.7105\n",
      "Epoch: 115, Train Acc: 0.7867, Test Acc: 0.7895\n",
      "Epoch: 116, Train Acc: 0.7533, Test Acc: 0.7632\n",
      "Epoch: 117, Train Acc: 0.7533, Test Acc: 0.7368\n",
      "Epoch: 118, Train Acc: 0.7667, Test Acc: 0.7368\n",
      "Epoch: 119, Train Acc: 0.8000, Test Acc: 0.8158\n",
      "Epoch: 120, Train Acc: 0.7867, Test Acc: 0.7895\n",
      "Epoch: 121, Train Acc: 0.7667, Test Acc: 0.7105\n",
      "Epoch: 122, Train Acc: 0.7933, Test Acc: 0.7632\n",
      "Epoch: 123, Train Acc: 0.7867, Test Acc: 0.7895\n",
      "Epoch: 124, Train Acc: 0.7733, Test Acc: 0.7368\n",
      "Epoch: 125, Train Acc: 0.7867, Test Acc: 0.7895\n",
      "Epoch: 126, Train Acc: 0.7600, Test Acc: 0.7105\n",
      "Epoch: 127, Train Acc: 0.7667, Test Acc: 0.7368\n",
      "Epoch: 128, Train Acc: 0.7800, Test Acc: 0.7632\n",
      "Epoch: 129, Train Acc: 0.7667, Test Acc: 0.7105\n",
      "Epoch: 130, Train Acc: 0.7600, Test Acc: 0.7368\n",
      "Epoch: 131, Train Acc: 0.7933, Test Acc: 0.7895\n",
      "Epoch: 132, Train Acc: 0.7667, Test Acc: 0.7105\n",
      "Epoch: 133, Train Acc: 0.7667, Test Acc: 0.7632\n",
      "Epoch: 134, Train Acc: 0.8133, Test Acc: 0.7105\n",
      "Epoch: 135, Train Acc: 0.7800, Test Acc: 0.7632\n",
      "Epoch: 136, Train Acc: 0.7467, Test Acc: 0.7632\n",
      "Epoch: 137, Train Acc: 0.7533, Test Acc: 0.7368\n",
      "Epoch: 138, Train Acc: 0.7867, Test Acc: 0.7895\n",
      "Epoch: 139, Train Acc: 0.7933, Test Acc: 0.7895\n",
      "Epoch: 140, Train Acc: 0.7800, Test Acc: 0.8158\n",
      "Epoch: 141, Train Acc: 0.7733, Test Acc: 0.7368\n",
      "Epoch: 142, Train Acc: 0.7533, Test Acc: 0.7105\n",
      "Epoch: 143, Train Acc: 0.7600, Test Acc: 0.7368\n",
      "Epoch: 144, Train Acc: 0.7933, Test Acc: 0.7632\n",
      "Epoch: 145, Train Acc: 0.8000, Test Acc: 0.8158\n",
      "Epoch: 146, Train Acc: 0.7933, Test Acc: 0.7895\n",
      "Epoch: 147, Train Acc: 0.7867, Test Acc: 0.7632\n",
      "Epoch: 148, Train Acc: 0.7733, Test Acc: 0.7368\n",
      "Epoch: 149, Train Acc: 0.8067, Test Acc: 0.7895\n",
      "Epoch: 150, Train Acc: 0.7800, Test Acc: 0.7632\n",
      "Epoch: 151, Train Acc: 0.7733, Test Acc: 0.7632\n",
      "Epoch: 152, Train Acc: 0.7733, Test Acc: 0.7368\n",
      "Epoch: 153, Train Acc: 0.7933, Test Acc: 0.7632\n",
      "Epoch: 154, Train Acc: 0.8000, Test Acc: 0.7632\n",
      "Epoch: 155, Train Acc: 0.7600, Test Acc: 0.7368\n",
      "Epoch: 156, Train Acc: 0.7667, Test Acc: 0.7368\n",
      "Epoch: 157, Train Acc: 0.7667, Test Acc: 0.7632\n",
      "Epoch: 158, Train Acc: 0.7800, Test Acc: 0.7368\n",
      "Epoch: 159, Train Acc: 0.7667, Test Acc: 0.7368\n",
      "Epoch: 160, Train Acc: 0.8200, Test Acc: 0.6842\n",
      "Epoch: 161, Train Acc: 0.7867, Test Acc: 0.7368\n",
      "Epoch: 162, Train Acc: 0.7733, Test Acc: 0.7368\n",
      "Epoch: 163, Train Acc: 0.7733, Test Acc: 0.7105\n",
      "Epoch: 164, Train Acc: 0.8067, Test Acc: 0.7632\n",
      "Epoch: 165, Train Acc: 0.8000, Test Acc: 0.7368\n",
      "Epoch: 166, Train Acc: 0.7933, Test Acc: 0.7368\n",
      "Epoch: 167, Train Acc: 0.7933, Test Acc: 0.7105\n",
      "Epoch: 168, Train Acc: 0.8000, Test Acc: 0.6316\n",
      "Epoch: 169, Train Acc: 0.7733, Test Acc: 0.7105\n",
      "Epoch: 170, Train Acc: 0.7733, Test Acc: 0.7895\n"
     ]
    }
   ],
   "source": [
    "from IPython.display import Javascript  # Restrict height of output cell.\n",
    "display(Javascript('''google.colab.output.setIframeHeight(0, true, {maxHeight: 300})'''))\n",
    "\n",
    "model = GCN(hidden_channels=16)\n",
    "criterion = torch.nn.CrossEntropyLoss()  # Define loss criterion.\n",
    "optimizer = torch.optim.Adam(model.parameters(), lr=0.01, weight_decay=5e-4)  # Define optimizer.\n",
    "\n",
    "def train():\n",
    "      model.train()\n",
    "      optimizer.zero_grad()  # Clear gradients.\n",
    "      out = model(data.x)  # Perform a single forward pass.\n",
    "      loss = criterion(out[data.train_mask], data.y[data.train_mask])  # Compute the loss solely based on the training nodes.\n",
    "      loss.backward()  # Derive gradients.\n",
    "      optimizer.step()  # Update parameters based on gradients.\n",
    "      return loss\n",
    "\n",
    "def test():\n",
    "      model.eval()\n",
    "      out = model(data.x)\n",
    "      pred = out.argmax(dim=1)  # Use the class with highest probability.\n",
    "      test_correct = pred[data.test_mask] == data.y[data.test_mask]  # Check against ground-truth labels.\n",
    "      test_acc = int(test_correct.sum()) / int(data.test_mask.sum())  # Derive ratio of correct predictions.\n",
    "      return test_acc\n",
    "\n",
    "for epoch in range(1, 201):\n",
    "    loss = train()\n",
    "    print(f'Epoch: {epoch:03d}, Loss: {loss:.4f}')"
   ]
  },
  {
   "cell_type": "code",
   "execution_count": null,
   "id": "74dcc702",
   "metadata": {},
   "outputs": [],
   "source": []
  },
  {
   "cell_type": "code",
   "execution_count": null,
   "id": "8e3bf0e0",
   "metadata": {},
   "outputs": [],
   "source": []
  },
  {
   "cell_type": "code",
   "execution_count": null,
   "id": "dd51b6dc",
   "metadata": {},
   "outputs": [],
   "source": []
  }
 ],
 "metadata": {
  "kernelspec": {
   "display_name": "hyperbolic_optimization_srp",
   "language": "python",
   "name": "python3"
  },
  "language_info": {
   "codemirror_mode": {
    "name": "ipython",
    "version": 3
   },
   "file_extension": ".py",
   "mimetype": "text/x-python",
   "name": "python",
   "nbconvert_exporter": "python",
   "pygments_lexer": "ipython3",
   "version": "3.13.2"
  }
 },
 "nbformat": 4,
 "nbformat_minor": 5
}
