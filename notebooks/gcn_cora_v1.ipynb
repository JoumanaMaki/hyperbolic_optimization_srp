{
 "cells": [
  {
   "cell_type": "markdown",
   "id": "c5ace95b",
   "metadata": {},
   "source": [
    "The Cora dataset consists of 2708 scientific publications classified into one of seven classes. \n",
    "\n",
    "The citation network consists of 5429 links. \n",
    "\n",
    "Each publication in the dataset is described by a 0/1-valued word vector indicating the absence/presence of the corresponding word from the dictionary. \n",
    "\n",
    "The dictionary consists of 1433 unique words."
   ]
  },
  {
   "cell_type": "code",
   "execution_count": 1,
   "id": "70d8433c",
   "metadata": {},
   "outputs": [],
   "source": [
    "%load_ext autoreload\n",
    "%autoreload 2"
   ]
  },
  {
   "cell_type": "code",
   "execution_count": 2,
   "id": "4bcecfc4",
   "metadata": {},
   "outputs": [],
   "source": [
    "import sys\n",
    "import numpy as np\n",
    "import networkx as nx\n",
    "import torch\n",
    "from torch_geometric.datasets import TUDataset, Planetoid\n",
    "from torch_geometric.transforms import NormalizeFeatures\n",
    "\n",
    "sys.path.append(\"..\")\n",
    "from models.node_clf.gcn.basic_gcn import GCN\n",
    "from utils.seed_everything import seed_everything"
   ]
  },
  {
   "cell_type": "code",
   "execution_count": 3,
   "id": "124c86f2",
   "metadata": {},
   "outputs": [],
   "source": [
    "seed_everything()"
   ]
  },
  {
   "cell_type": "code",
   "execution_count": 4,
   "id": "f5133df7",
   "metadata": {},
   "outputs": [
    {
     "name": "stdout",
     "output_type": "stream",
     "text": [
      "\n",
      "Dataset: Cora():\n",
      "====================\n",
      "Number of graphs: 1\n",
      "Number of features: 1433\n",
      "Number of classes: 7\n",
      "\n",
      "Data(x=[2708, 1433], edge_index=[2, 10556], y=[2708], train_mask=[2708], val_mask=[2708], test_mask=[2708])\n",
      "=============================================================\n",
      "Number of nodes: 2708\n",
      "Number of edges: 10556\n",
      "Average node degree: 3.90\n",
      "Has isolated nodes: False\n",
      "Has self-loops: False\n",
      "Is undirected: True\n"
     ]
    }
   ],
   "source": [
    "dataset = Planetoid(root='data/Planetoid', name='Cora', transform=NormalizeFeatures(), split=\"public\")\n",
    "\n",
    "print()\n",
    "print(f'Dataset: {dataset}:')\n",
    "print('====================')\n",
    "print(f'Number of graphs: {len(dataset)}')\n",
    "print(f'Number of features: {dataset.num_features}')\n",
    "print(f'Number of classes: {dataset.num_classes}')\n",
    "\n",
    "data = dataset[0]  # Get the first graph object.\n",
    "\n",
    "print()\n",
    "print(data)\n",
    "print('=============================================================')\n",
    "\n",
    "# Gather some statistics about the first graph.\n",
    "print(f'Number of nodes: {data.num_nodes}')\n",
    "print(f'Number of edges: {data.num_edges}')\n",
    "print(f'Average node degree: {data.num_edges / data.num_nodes:.2f}')\n",
    "print(f'Has isolated nodes: {data.has_isolated_nodes()}')\n",
    "print(f'Has self-loops: {data.has_self_loops()}')\n",
    "print(f'Is undirected: {data.is_undirected()}')"
   ]
  },
  {
   "cell_type": "code",
   "execution_count": 5,
   "id": "4a141709",
   "metadata": {},
   "outputs": [
    {
     "data": {
      "text/plain": [
       "(array([0, 1, 2, 3, 4, 5, 6]), array([351, 217, 418, 818, 426, 298, 180]))"
      ]
     },
     "execution_count": 5,
     "metadata": {},
     "output_type": "execute_result"
    }
   ],
   "source": [
    "np.unique(data.y, return_counts=True)"
   ]
  },
  {
   "cell_type": "code",
   "execution_count": 6,
   "id": "db973945",
   "metadata": {},
   "outputs": [
    {
     "data": {
      "text/plain": [
       "torch.Size([2, 10556])"
      ]
     },
     "execution_count": 6,
     "metadata": {},
     "output_type": "execute_result"
    }
   ],
   "source": [
    "data.edge_index.shape"
   ]
  },
  {
   "cell_type": "code",
   "execution_count": 7,
   "id": "00e19ab9",
   "metadata": {},
   "outputs": [
    {
     "data": {
      "text/plain": [
       "tensor([[ 633, 1862, 2582,  ...,  598, 1473, 2706],\n",
       "        [   0,    0,    0,  ..., 2707, 2707, 2707]])"
      ]
     },
     "execution_count": 7,
     "metadata": {},
     "output_type": "execute_result"
    }
   ],
   "source": [
    "# adjacency matrix in COO format\n",
    "data.edge_index"
   ]
  },
  {
   "cell_type": "code",
   "execution_count": 8,
   "id": "2deadcf9",
   "metadata": {},
   "outputs": [
    {
     "data": {
      "text/plain": [
       "(torch.Size([2708]), 2708)"
      ]
     },
     "execution_count": 8,
     "metadata": {},
     "output_type": "execute_result"
    }
   ],
   "source": [
    "# node classes (target)\n",
    "data.y.shape, data.num_nodes"
   ]
  },
  {
   "cell_type": "code",
   "execution_count": 9,
   "id": "d6887af8",
   "metadata": {},
   "outputs": [
    {
     "data": {
      "text/plain": [
       "torch.Size([2708, 1433])"
      ]
     },
     "execution_count": 9,
     "metadata": {},
     "output_type": "execute_result"
    }
   ],
   "source": [
    "# node features, each node has a bag-of-wrods of size 1433\n",
    "data.x.shape"
   ]
  },
  {
   "cell_type": "code",
   "execution_count": 10,
   "id": "506a7ca5",
   "metadata": {},
   "outputs": [
    {
     "data": {
      "text/plain": [
       "torch.Size([2708])"
      ]
     },
     "execution_count": 10,
     "metadata": {},
     "output_type": "execute_result"
    }
   ],
   "source": [
    "data.y.shape"
   ]
  },
  {
   "cell_type": "code",
   "execution_count": 11,
   "id": "2c167145",
   "metadata": {},
   "outputs": [
    {
     "name": "stdout",
     "output_type": "stream",
     "text": [
      "torch.Size([2, 10556])\n",
      "Number of unique undirected edges: 5278\n"
     ]
    }
   ],
   "source": [
    "edge_index = data.edge_index\n",
    "print(edge_index.shape)  # [2, 10556]\n",
    "\n",
    "# Count unique undirected edges\n",
    "edges = edge_index.t().tolist()  # list of (source, target)\n",
    "undirected_edges = set(tuple(sorted(edge)) for edge in edges)\n",
    "\n",
    "print(\"Number of unique undirected edges:\", len(undirected_edges))"
   ]
  },
  {
   "cell_type": "code",
   "execution_count": 12,
   "id": "7d80abf4",
   "metadata": {},
   "outputs": [],
   "source": [
    "torch.manual_seed(12345)\n",
    "dataset = dataset.shuffle()\n",
    "\n",
    "train_dataset = dataset[:150]\n",
    "test_dataset = dataset[150:]\n",
    "\n"
   ]
  },
  {
   "cell_type": "code",
   "execution_count": 27,
   "id": "8d76ddb0",
   "metadata": {},
   "outputs": [
    {
     "name": "stdout",
     "output_type": "stream",
     "text": [
      "Step 1:\n",
      "=======\n",
      "Number of graphs in the current batch: 1\n",
      "DataBatch(x=[2708, 1433], edge_index=[2, 10556], y=[2708], train_mask=[2708], val_mask=[2708], test_mask=[2708], batch=[2708], ptr=[2])\n",
      "\n"
     ]
    }
   ],
   "source": [
    "from torch_geometric.loader import DataLoader\n",
    "\n",
    "train_loader = DataLoader(train_dataset, batch_size=64, shuffle=True)\n",
    "test_loader = DataLoader(test_dataset, batch_size=64, shuffle=False)\n",
    "\n",
    "for step, data in enumerate(train_loader):\n",
    "    print(f'Step {step + 1}:')\n",
    "    print('=======')\n",
    "    print(f'Number of graphs in the current batch: {data.num_graphs}')\n",
    "    print(data)\n",
    "    print()"
   ]
  },
  {
   "cell_type": "code",
   "execution_count": 14,
   "id": "9891c432",
   "metadata": {},
   "outputs": [
    {
     "name": "stdout",
     "output_type": "stream",
     "text": [
      "Epoch: 001, Loss: 1.9477\n",
      "Epoch: 002, Loss: 1.9417\n",
      "Epoch: 003, Loss: 1.9340\n",
      "Epoch: 004, Loss: 1.9219\n",
      "Epoch: 005, Loss: 1.9047\n",
      "Epoch: 006, Loss: 1.8803\n",
      "Epoch: 007, Loss: 1.8470\n",
      "Epoch: 008, Loss: 1.8038\n",
      "Epoch: 009, Loss: 1.7492\n",
      "Epoch: 010, Loss: 1.6819\n",
      "Epoch: 011, Loss: 1.6005\n",
      "Epoch: 012, Loss: 1.5048\n",
      "Epoch: 013, Loss: 1.3964\n",
      "Epoch: 014, Loss: 1.2776\n",
      "Epoch: 015, Loss: 1.1508\n",
      "Epoch: 016, Loss: 1.0206\n",
      "Epoch: 017, Loss: 0.8914\n",
      "Epoch: 018, Loss: 0.7668\n",
      "Epoch: 019, Loss: 0.6508\n",
      "Epoch: 020, Loss: 0.5449\n",
      "Epoch: 021, Loss: 0.4508\n",
      "Epoch: 022, Loss: 0.3696\n",
      "Epoch: 023, Loss: 0.3005\n",
      "Epoch: 024, Loss: 0.2435\n",
      "Epoch: 025, Loss: 0.1970\n",
      "Epoch: 026, Loss: 0.1595\n",
      "Epoch: 027, Loss: 0.1296\n",
      "Epoch: 028, Loss: 0.1056\n",
      "Epoch: 029, Loss: 0.0866\n",
      "Epoch: 030, Loss: 0.0716\n",
      "Epoch: 031, Loss: 0.0600\n",
      "Epoch: 032, Loss: 0.0511\n",
      "Epoch: 033, Loss: 0.0444\n",
      "Epoch: 034, Loss: 0.0394\n",
      "Epoch: 035, Loss: 0.0357\n",
      "Epoch: 036, Loss: 0.0330\n",
      "Epoch: 037, Loss: 0.0312\n",
      "Epoch: 038, Loss: 0.0299\n",
      "Epoch: 039, Loss: 0.0293\n",
      "Epoch: 040, Loss: 0.0291\n",
      "Epoch: 041, Loss: 0.0293\n",
      "Epoch: 042, Loss: 0.0298\n",
      "Epoch: 043, Loss: 0.0305\n",
      "Epoch: 044, Loss: 0.0314\n",
      "Epoch: 045, Loss: 0.0324\n",
      "Epoch: 046, Loss: 0.0335\n",
      "Epoch: 047, Loss: 0.0344\n",
      "Epoch: 048, Loss: 0.0354\n",
      "Epoch: 049, Loss: 0.0361\n",
      "Epoch: 050, Loss: 0.0367\n",
      "Epoch: 051, Loss: 0.0372\n",
      "Epoch: 052, Loss: 0.0376\n",
      "Epoch: 053, Loss: 0.0382\n",
      "Epoch: 054, Loss: 0.0386\n",
      "Epoch: 055, Loss: 0.0372\n",
      "Epoch: 056, Loss: 0.0363\n",
      "Epoch: 057, Loss: 0.0364\n",
      "Epoch: 058, Loss: 0.0350\n",
      "Epoch: 059, Loss: 0.0344\n",
      "Epoch: 060, Loss: 0.0339\n",
      "Epoch: 061, Loss: 0.0328\n",
      "Epoch: 062, Loss: 0.0326\n",
      "Epoch: 063, Loss: 0.0317\n",
      "Epoch: 064, Loss: 0.0313\n",
      "Epoch: 065, Loss: 0.0309\n",
      "Epoch: 066, Loss: 0.0304\n",
      "Epoch: 067, Loss: 0.0302\n",
      "Epoch: 068, Loss: 0.0298\n",
      "Epoch: 069, Loss: 0.0297\n",
      "Epoch: 070, Loss: 0.0295\n",
      "Epoch: 071, Loss: 0.0294\n",
      "Epoch: 072, Loss: 0.0292\n",
      "Epoch: 073, Loss: 0.0292\n",
      "Epoch: 074, Loss: 0.0291\n",
      "Epoch: 075, Loss: 0.0290\n",
      "Epoch: 076, Loss: 0.0289\n",
      "Epoch: 077, Loss: 0.0288\n",
      "Epoch: 078, Loss: 0.0288\n",
      "Epoch: 079, Loss: 0.0287\n",
      "Epoch: 080, Loss: 0.0285\n",
      "Epoch: 081, Loss: 0.0285\n",
      "Epoch: 082, Loss: 0.0284\n",
      "Epoch: 083, Loss: 0.0282\n",
      "Epoch: 084, Loss: 0.0282\n",
      "Epoch: 085, Loss: 0.0281\n",
      "Epoch: 086, Loss: 0.0279\n",
      "Epoch: 087, Loss: 0.0279\n",
      "Epoch: 088, Loss: 0.0277\n",
      "Epoch: 089, Loss: 0.0276\n",
      "Epoch: 090, Loss: 0.0275\n",
      "Epoch: 091, Loss: 0.0274\n",
      "Epoch: 092, Loss: 0.0273\n",
      "Epoch: 093, Loss: 0.0272\n",
      "Epoch: 094, Loss: 0.0271\n",
      "Epoch: 095, Loss: 0.0270\n",
      "Epoch: 096, Loss: 0.0269\n",
      "Epoch: 097, Loss: 0.0268\n",
      "Epoch: 098, Loss: 0.0267\n",
      "Epoch: 099, Loss: 0.0267\n",
      "Epoch: 100, Loss: 0.0266\n",
      "Epoch: 101, Loss: 0.0265\n",
      "Epoch: 102, Loss: 0.0264\n",
      "Epoch: 103, Loss: 0.0263\n",
      "Epoch: 104, Loss: 0.0262\n",
      "Epoch: 105, Loss: 0.0262\n",
      "Epoch: 106, Loss: 0.0261\n",
      "Epoch: 107, Loss: 0.0260\n",
      "Epoch: 108, Loss: 0.0259\n",
      "Epoch: 109, Loss: 0.0259\n",
      "Epoch: 110, Loss: 0.0258\n",
      "Epoch: 111, Loss: 0.0257\n",
      "Epoch: 112, Loss: 0.0256\n",
      "Epoch: 113, Loss: 0.0256\n",
      "Epoch: 114, Loss: 0.0255\n",
      "Epoch: 115, Loss: 0.0254\n",
      "Epoch: 116, Loss: 0.0253\n",
      "Epoch: 117, Loss: 0.0253\n",
      "Epoch: 118, Loss: 0.0252\n",
      "Epoch: 119, Loss: 0.0251\n",
      "Epoch: 120, Loss: 0.0251\n",
      "Epoch: 121, Loss: 0.0250\n",
      "Epoch: 122, Loss: 0.0250\n",
      "Epoch: 123, Loss: 0.0249\n",
      "Epoch: 124, Loss: 0.0248\n",
      "Epoch: 125, Loss: 0.0248\n",
      "Epoch: 126, Loss: 0.0247\n",
      "Epoch: 127, Loss: 0.0246\n",
      "Epoch: 128, Loss: 0.0246\n",
      "Epoch: 129, Loss: 0.0245\n",
      "Epoch: 130, Loss: 0.0245\n",
      "Epoch: 131, Loss: 0.0244\n",
      "Epoch: 132, Loss: 0.0244\n",
      "Epoch: 133, Loss: 0.0244\n",
      "Epoch: 134, Loss: 0.0244\n",
      "Epoch: 135, Loss: 0.0246\n",
      "Epoch: 136, Loss: 0.0249\n",
      "Epoch: 137, Loss: 0.0256\n",
      "Epoch: 138, Loss: 0.0256\n",
      "Epoch: 139, Loss: 0.0248\n",
      "Epoch: 140, Loss: 0.0233\n",
      "Epoch: 141, Loss: 0.0239\n",
      "Epoch: 142, Loss: 0.0239\n",
      "Epoch: 143, Loss: 0.0228\n",
      "Epoch: 144, Loss: 0.0235\n",
      "Epoch: 145, Loss: 0.0236\n",
      "Epoch: 146, Loss: 0.0228\n",
      "Epoch: 147, Loss: 0.0235\n",
      "Epoch: 148, Loss: 0.0235\n",
      "Epoch: 149, Loss: 0.0230\n",
      "Epoch: 150, Loss: 0.0236\n",
      "Epoch: 151, Loss: 0.0236\n",
      "Epoch: 152, Loss: 0.0231\n",
      "Epoch: 153, Loss: 0.0235\n",
      "Epoch: 154, Loss: 0.0234\n",
      "Epoch: 155, Loss: 0.0230\n",
      "Epoch: 156, Loss: 0.0233\n",
      "Epoch: 157, Loss: 0.0232\n",
      "Epoch: 158, Loss: 0.0229\n",
      "Epoch: 159, Loss: 0.0231\n",
      "Epoch: 160, Loss: 0.0230\n",
      "Epoch: 161, Loss: 0.0228\n",
      "Epoch: 162, Loss: 0.0229\n",
      "Epoch: 163, Loss: 0.0228\n",
      "Epoch: 164, Loss: 0.0227\n",
      "Epoch: 165, Loss: 0.0227\n",
      "Epoch: 166, Loss: 0.0227\n",
      "Epoch: 167, Loss: 0.0226\n",
      "Epoch: 168, Loss: 0.0226\n",
      "Epoch: 169, Loss: 0.0226\n",
      "Epoch: 170, Loss: 0.0225\n",
      "Epoch: 171, Loss: 0.0225\n",
      "Epoch: 172, Loss: 0.0225\n",
      "Epoch: 173, Loss: 0.0224\n",
      "Epoch: 174, Loss: 0.0223\n",
      "Epoch: 175, Loss: 0.0224\n",
      "Epoch: 176, Loss: 0.0223\n",
      "Epoch: 177, Loss: 0.0222\n",
      "Epoch: 178, Loss: 0.0223\n",
      "Epoch: 179, Loss: 0.0222\n",
      "Epoch: 180, Loss: 0.0221\n",
      "Epoch: 181, Loss: 0.0221\n",
      "Epoch: 182, Loss: 0.0221\n",
      "Epoch: 183, Loss: 0.0220\n",
      "Epoch: 184, Loss: 0.0220\n",
      "Epoch: 185, Loss: 0.0220\n",
      "Epoch: 186, Loss: 0.0220\n",
      "Epoch: 187, Loss: 0.0219\n",
      "Epoch: 188, Loss: 0.0219\n",
      "Epoch: 189, Loss: 0.0219\n",
      "Epoch: 190, Loss: 0.0218\n",
      "Epoch: 191, Loss: 0.0218\n",
      "Epoch: 192, Loss: 0.0218\n",
      "Epoch: 193, Loss: 0.0218\n",
      "Epoch: 194, Loss: 0.0217\n",
      "Epoch: 195, Loss: 0.0217\n",
      "Epoch: 196, Loss: 0.0217\n",
      "Epoch: 197, Loss: 0.0216\n",
      "Epoch: 198, Loss: 0.0216\n",
      "Epoch: 199, Loss: 0.0216\n",
      "Epoch: 200, Loss: 0.0215\n"
     ]
    }
   ],
   "source": [
    "num_hidden_features = 64\n",
    "model = GCN(dataset.num_node_features, num_hidden_features, dataset.num_classes)\n",
    "criterion = torch.nn.CrossEntropyLoss()  # Define loss criterion.\n",
    "optimizer = torch.optim.Adam(model.parameters(), lr=0.01, weight_decay=5e-4)  # Define optimizer.\n",
    "\n",
    "def train():\n",
    "      model.train()\n",
    "      optimizer.zero_grad()  # Clear gradients.\n",
    "      out = model(data.x, edge_index)  # Perform a single forward pass.\n",
    "      loss = criterion(out[data.train_mask], data.y[data.train_mask])  # Compute the loss solely based on the training nodes.\n",
    "      loss.backward()  # Derive gradients.\n",
    "      optimizer.step()  # Update parameters based on gradients.\n",
    "      return loss\n",
    "\n",
    "def test():\n",
    "      model.eval()\n",
    "      out = model(data.x, edge_index)\n",
    "      pred = out.argmax(dim=1)  # Use the class with highest probability.\n",
    "      test_correct = pred[data.test_mask] == data.y[data.test_mask]  # Check against ground-truth labels.\n",
    "      test_acc = int(test_correct.sum()) / int(data.test_mask.sum())  # Derive ratio of correct predictions.\n",
    "      return test_acc\n",
    "\n",
    "for epoch in range(1, 201):\n",
    "    loss = train()\n",
    "    print(f'Epoch: {epoch:03d}, Loss: {loss:.4f}')"
   ]
  },
  {
   "cell_type": "code",
   "execution_count": 15,
   "id": "74dcc702",
   "metadata": {},
   "outputs": [
    {
     "name": "stdout",
     "output_type": "stream",
     "text": [
      "Test Accuracy: 0.7970\n"
     ]
    }
   ],
   "source": [
    "test_acc = test()\n",
    "print(f'Test Accuracy: {test_acc:.4f}')"
   ]
  },
  {
   "cell_type": "code",
   "execution_count": null,
   "id": "8e3bf0e0",
   "metadata": {},
   "outputs": [],
   "source": []
  },
  {
   "cell_type": "code",
   "execution_count": null,
   "id": "dd51b6dc",
   "metadata": {},
   "outputs": [],
   "source": []
  }
 ],
 "metadata": {
  "kernelspec": {
   "display_name": "hyperbolic_optimization_srp",
   "language": "python",
   "name": "python3"
  },
  "language_info": {
   "codemirror_mode": {
    "name": "ipython",
    "version": 3
   },
   "file_extension": ".py",
   "mimetype": "text/x-python",
   "name": "python",
   "nbconvert_exporter": "python",
   "pygments_lexer": "ipython3",
   "version": "3.13.2"
  }
 },
 "nbformat": 4,
 "nbformat_minor": 5
}
