{
 "cells": [
  {
   "cell_type": "markdown",
   "id": "c5ace95b",
   "metadata": {},
   "source": [
    "The Cora dataset consists of 2708 scientific publications classified into one of seven classes. \n",
    "\n",
    "The citation network consists of 5429 links. \n",
    "\n",
    "Each publication in the dataset is described by a 0/1-valued word vector indicating the absence/presence of the corresponding word from the dictionary. \n",
    "\n",
    "The dictionary consists of 1433 unique words."
   ]
  },
  {
   "cell_type": "code",
   "execution_count": 1,
   "id": "70d8433c",
   "metadata": {},
   "outputs": [],
   "source": [
    "%load_ext autoreload\n",
    "%autoreload 2"
   ]
  },
  {
   "cell_type": "code",
   "execution_count": 2,
   "id": "4bcecfc4",
   "metadata": {},
   "outputs": [],
   "source": [
    "import sys\n",
    "import numpy as np\n",
    "import networkx as nx\n",
    "import torch\n",
    "from torch_geometric.datasets import Planetoid\n",
    "from torch_geometric.transforms import NormalizeFeatures\n",
    "\n",
    "sys.path.append(\"..\")\n",
    "from models.node_clf.gcn.gcn import GCN\n",
    "from utils.seed_everything import seed_everything"
   ]
  },
  {
   "cell_type": "code",
   "execution_count": 3,
   "id": "124c86f2",
   "metadata": {},
   "outputs": [],
   "source": [
    "seed_everything()"
   ]
  },
  {
   "cell_type": "markdown",
   "id": "959f1be4",
   "metadata": {},
   "source": [
    "# 1. Load Cora Dataset"
   ]
  },
  {
   "cell_type": "code",
   "execution_count": 4,
   "id": "f5133df7",
   "metadata": {},
   "outputs": [
    {
     "name": "stdout",
     "output_type": "stream",
     "text": [
      "\n",
      "Dataset: Cora():\n",
      "====================\n",
      "Number of graphs: 1\n",
      "Number of features: 1433\n",
      "Number of classes: 7\n",
      "\n",
      "Data(x=[2708, 1433], edge_index=[2, 10556], y=[2708], train_mask=[2708], val_mask=[2708], test_mask=[2708])\n",
      "=============================================================\n",
      "Number of nodes: 2708\n",
      "Number of edges: 10556\n",
      "Average node degree: 3.90\n",
      "Has isolated nodes: False\n",
      "Has self-loops: False\n",
      "Is undirected: True\n"
     ]
    }
   ],
   "source": [
    "dataset = Planetoid(root='data/Planetoid', name='Cora', transform=NormalizeFeatures(), split=\"public\")\n",
    "\n",
    "print()\n",
    "print(f'Dataset: {dataset}:')\n",
    "print('====================')\n",
    "print(f'Number of graphs: {len(dataset)}')\n",
    "print(f'Number of features: {dataset.num_features}')\n",
    "print(f'Number of classes: {dataset.num_classes}')\n",
    "\n",
    "data = dataset[0]  # Get the first graph object.\n",
    "\n",
    "print()\n",
    "print(data)\n",
    "print('=============================================================')\n",
    "\n",
    "# Gather some statistics about the first graph.\n",
    "print(f'Number of nodes: {data.num_nodes}')\n",
    "print(f'Number of edges: {data.num_edges}')\n",
    "print(f'Average node degree: {data.num_edges / data.num_nodes:.2f}')\n",
    "print(f'Has isolated nodes: {data.has_isolated_nodes()}')\n",
    "print(f'Has self-loops: {data.has_self_loops()}')\n",
    "print(f'Is undirected: {data.is_undirected()}')"
   ]
  },
  {
   "cell_type": "code",
   "execution_count": 5,
   "id": "4a141709",
   "metadata": {},
   "outputs": [
    {
     "data": {
      "text/plain": [
       "(array([0, 1, 2, 3, 4, 5, 6]), array([351, 217, 418, 818, 426, 298, 180]))"
      ]
     },
     "execution_count": 5,
     "metadata": {},
     "output_type": "execute_result"
    }
   ],
   "source": [
    "np.unique(data.y, return_counts=True)"
   ]
  },
  {
   "cell_type": "code",
   "execution_count": 6,
   "id": "db973945",
   "metadata": {},
   "outputs": [
    {
     "data": {
      "text/plain": [
       "torch.Size([2, 10556])"
      ]
     },
     "execution_count": 6,
     "metadata": {},
     "output_type": "execute_result"
    }
   ],
   "source": [
    "data.edge_index.shape"
   ]
  },
  {
   "cell_type": "code",
   "execution_count": 8,
   "id": "00e19ab9",
   "metadata": {},
   "outputs": [
    {
     "data": {
      "text/plain": [
       "tensor([[ 633, 1862, 2582,  ...,  598, 1473, 2706],\n",
       "        [   0,    0,    0,  ..., 2707, 2707, 2707]])"
      ]
     },
     "execution_count": 8,
     "metadata": {},
     "output_type": "execute_result"
    }
   ],
   "source": [
    "# adjacency matrix in COO format\n",
    "data.edge_index"
   ]
  },
  {
   "cell_type": "code",
   "execution_count": 9,
   "id": "2deadcf9",
   "metadata": {},
   "outputs": [
    {
     "data": {
      "text/plain": [
       "(torch.Size([2708]), 2708)"
      ]
     },
     "execution_count": 9,
     "metadata": {},
     "output_type": "execute_result"
    }
   ],
   "source": [
    "# node classes (target)\n",
    "data.y.shape, data.num_nodes"
   ]
  },
  {
   "cell_type": "code",
   "execution_count": 10,
   "id": "d6887af8",
   "metadata": {},
   "outputs": [
    {
     "data": {
      "text/plain": [
       "torch.Size([2708, 1433])"
      ]
     },
     "execution_count": 10,
     "metadata": {},
     "output_type": "execute_result"
    }
   ],
   "source": [
    "# node features, each node has a bag-of-wrods of size 1433\n",
    "data.x.shape"
   ]
  },
  {
   "cell_type": "code",
   "execution_count": 11,
   "id": "506a7ca5",
   "metadata": {},
   "outputs": [
    {
     "data": {
      "text/plain": [
       "torch.Size([2708])"
      ]
     },
     "execution_count": 11,
     "metadata": {},
     "output_type": "execute_result"
    }
   ],
   "source": [
    "# target node classes\n",
    "data.y.shape"
   ]
  },
  {
   "cell_type": "code",
   "execution_count": 12,
   "id": "2c167145",
   "metadata": {},
   "outputs": [
    {
     "name": "stdout",
     "output_type": "stream",
     "text": [
      "torch.Size([2, 10556])\n",
      "Number of unique undirected edges: 5278\n"
     ]
    }
   ],
   "source": [
    "edge_index = data.edge_index\n",
    "print(edge_index.shape)  # [2, 10556]\n",
    "\n",
    "# Count unique undirected edges\n",
    "edges = edge_index.t().tolist()  # list of (source, target)\n",
    "undirected_edges = set(tuple(sorted(edge)) for edge in edges)\n",
    "\n",
    "print(\"Number of unique undirected edges:\", len(undirected_edges))"
   ]
  },
  {
   "cell_type": "code",
   "execution_count": 13,
   "id": "7d80abf4",
   "metadata": {},
   "outputs": [],
   "source": [
    "torch.manual_seed(12345)\n",
    "dataset = dataset.shuffle()\n",
    "\n",
    "train_dataset = dataset[:150]\n",
    "test_dataset = dataset[150:]\n",
    "\n"
   ]
  },
  {
   "cell_type": "code",
   "execution_count": 14,
   "id": "8d76ddb0",
   "metadata": {},
   "outputs": [
    {
     "name": "stdout",
     "output_type": "stream",
     "text": [
      "Step 1:\n",
      "=======\n",
      "Number of graphs in the current batch: 1\n",
      "DataBatch(x=[2708, 1433], edge_index=[2, 10556], y=[2708], train_mask=[2708], val_mask=[2708], test_mask=[2708], batch=[2708], ptr=[2])\n",
      "\n"
     ]
    }
   ],
   "source": [
    "from torch_geometric.loader import DataLoader\n",
    "\n",
    "train_loader = DataLoader(train_dataset, batch_size=64, shuffle=True)\n",
    "test_loader = DataLoader(test_dataset, batch_size=64, shuffle=False)\n",
    "\n",
    "for step, data in enumerate(train_loader):\n",
    "    print(f'Step {step + 1}:')\n",
    "    print('=======')\n",
    "    print(f'Number of graphs in the current batch: {data.num_graphs}')\n",
    "    print(data)\n",
    "    print()"
   ]
  },
  {
   "cell_type": "markdown",
   "id": "cda7c819",
   "metadata": {},
   "source": [
    "# 2. Train GCN with Adam"
   ]
  },
  {
   "cell_type": "code",
   "execution_count": 18,
   "id": "9891c432",
   "metadata": {},
   "outputs": [
    {
     "name": "stdout",
     "output_type": "stream",
     "text": [
      "Epoch: 001, Loss: 1.9485\n",
      "Epoch: 002, Loss: 1.9427\n",
      "Epoch: 003, Loss: 1.9352\n",
      "Epoch: 004, Loss: 1.9241\n",
      "Epoch: 005, Loss: 1.9080\n",
      "Epoch: 006, Loss: 1.8851\n",
      "Epoch: 007, Loss: 1.8535\n",
      "Epoch: 008, Loss: 1.8117\n",
      "Epoch: 009, Loss: 1.7585\n",
      "Epoch: 010, Loss: 1.6926\n",
      "Epoch: 011, Loss: 1.6134\n",
      "Epoch: 012, Loss: 1.5213\n",
      "Epoch: 013, Loss: 1.4172\n",
      "Epoch: 014, Loss: 1.3035\n",
      "Epoch: 015, Loss: 1.1832\n",
      "Epoch: 016, Loss: 1.0601\n",
      "Epoch: 017, Loss: 0.9372\n",
      "Epoch: 018, Loss: 0.8176\n",
      "Epoch: 019, Loss: 0.7041\n",
      "Epoch: 020, Loss: 0.5988\n",
      "Epoch: 021, Loss: 0.5037\n",
      "Epoch: 022, Loss: 0.4190\n",
      "Epoch: 023, Loss: 0.3451\n",
      "Epoch: 024, Loss: 0.2819\n",
      "Epoch: 025, Loss: 0.2289\n",
      "Epoch: 026, Loss: 0.1855\n",
      "Epoch: 027, Loss: 0.1506\n",
      "Epoch: 028, Loss: 0.1227\n",
      "Epoch: 029, Loss: 0.1009\n",
      "Epoch: 030, Loss: 0.0838\n",
      "Epoch: 031, Loss: 0.0706\n",
      "Epoch: 032, Loss: 0.0603\n",
      "Epoch: 033, Loss: 0.0525\n",
      "Epoch: 034, Loss: 0.0465\n",
      "Epoch: 035, Loss: 0.0420\n",
      "Epoch: 036, Loss: 0.0387\n",
      "Epoch: 037, Loss: 0.0362\n",
      "Epoch: 038, Loss: 0.0345\n",
      "Epoch: 039, Loss: 0.0333\n",
      "Epoch: 040, Loss: 0.0327\n",
      "Epoch: 041, Loss: 0.0324\n",
      "Epoch: 042, Loss: 0.0325\n",
      "Epoch: 043, Loss: 0.0328\n",
      "Epoch: 044, Loss: 0.0333\n",
      "Epoch: 045, Loss: 0.0340\n",
      "Epoch: 046, Loss: 0.0347\n",
      "Epoch: 047, Loss: 0.0354\n",
      "Epoch: 048, Loss: 0.0360\n",
      "Epoch: 049, Loss: 0.0366\n",
      "Epoch: 050, Loss: 0.0370\n",
      "Epoch: 051, Loss: 0.0373\n",
      "Epoch: 052, Loss: 0.0376\n",
      "Epoch: 053, Loss: 0.0379\n",
      "Epoch: 054, Loss: 0.0379\n",
      "Epoch: 055, Loss: 0.0369\n",
      "Epoch: 056, Loss: 0.0359\n",
      "Epoch: 057, Loss: 0.0358\n",
      "Epoch: 058, Loss: 0.0353\n",
      "Epoch: 059, Loss: 0.0341\n",
      "Epoch: 060, Loss: 0.0337\n",
      "Epoch: 061, Loss: 0.0332\n",
      "Epoch: 062, Loss: 0.0323\n",
      "Epoch: 063, Loss: 0.0319\n",
      "Epoch: 064, Loss: 0.0315\n",
      "Epoch: 065, Loss: 0.0308\n",
      "Epoch: 066, Loss: 0.0306\n",
      "Epoch: 067, Loss: 0.0303\n",
      "Epoch: 068, Loss: 0.0298\n",
      "Epoch: 069, Loss: 0.0297\n",
      "Epoch: 070, Loss: 0.0295\n",
      "Epoch: 071, Loss: 0.0291\n",
      "Epoch: 072, Loss: 0.0290\n",
      "Epoch: 073, Loss: 0.0289\n",
      "Epoch: 074, Loss: 0.0287\n",
      "Epoch: 075, Loss: 0.0286\n",
      "Epoch: 076, Loss: 0.0285\n",
      "Epoch: 077, Loss: 0.0283\n",
      "Epoch: 078, Loss: 0.0282\n",
      "Epoch: 079, Loss: 0.0281\n",
      "Epoch: 080, Loss: 0.0279\n",
      "Epoch: 081, Loss: 0.0278\n",
      "Epoch: 082, Loss: 0.0277\n",
      "Epoch: 083, Loss: 0.0276\n",
      "Epoch: 084, Loss: 0.0274\n",
      "Epoch: 085, Loss: 0.0273\n",
      "Epoch: 086, Loss: 0.0272\n",
      "Epoch: 087, Loss: 0.0271\n",
      "Epoch: 088, Loss: 0.0270\n",
      "Epoch: 089, Loss: 0.0268\n",
      "Epoch: 090, Loss: 0.0267\n",
      "Epoch: 091, Loss: 0.0266\n",
      "Epoch: 092, Loss: 0.0265\n",
      "Epoch: 093, Loss: 0.0264\n",
      "Epoch: 094, Loss: 0.0263\n",
      "Epoch: 095, Loss: 0.0262\n",
      "Epoch: 096, Loss: 0.0261\n",
      "Epoch: 097, Loss: 0.0260\n",
      "Epoch: 098, Loss: 0.0259\n",
      "Epoch: 099, Loss: 0.0258\n",
      "Epoch: 100, Loss: 0.0258\n",
      "Epoch: 101, Loss: 0.0257\n",
      "Epoch: 102, Loss: 0.0256\n",
      "Epoch: 103, Loss: 0.0255\n",
      "Epoch: 104, Loss: 0.0255\n",
      "Epoch: 105, Loss: 0.0254\n",
      "Epoch: 106, Loss: 0.0253\n",
      "Epoch: 107, Loss: 0.0253\n",
      "Epoch: 108, Loss: 0.0252\n",
      "Epoch: 109, Loss: 0.0252\n",
      "Epoch: 110, Loss: 0.0253\n",
      "Epoch: 111, Loss: 0.0255\n",
      "Epoch: 112, Loss: 0.0259\n",
      "Epoch: 113, Loss: 0.0263\n",
      "Epoch: 114, Loss: 0.0263\n",
      "Epoch: 115, Loss: 0.0249\n",
      "Epoch: 116, Loss: 0.0240\n",
      "Epoch: 117, Loss: 0.0245\n",
      "Epoch: 118, Loss: 0.0244\n",
      "Epoch: 119, Loss: 0.0237\n",
      "Epoch: 120, Loss: 0.0239\n",
      "Epoch: 121, Loss: 0.0242\n",
      "Epoch: 122, Loss: 0.0238\n",
      "Epoch: 123, Loss: 0.0237\n",
      "Epoch: 124, Loss: 0.0241\n",
      "Epoch: 125, Loss: 0.0242\n",
      "Epoch: 126, Loss: 0.0238\n",
      "Epoch: 127, Loss: 0.0239\n",
      "Epoch: 128, Loss: 0.0242\n",
      "Epoch: 129, Loss: 0.0239\n",
      "Epoch: 130, Loss: 0.0237\n",
      "Epoch: 131, Loss: 0.0238\n",
      "Epoch: 132, Loss: 0.0238\n",
      "Epoch: 133, Loss: 0.0236\n",
      "Epoch: 134, Loss: 0.0235\n",
      "Epoch: 135, Loss: 0.0236\n",
      "Epoch: 136, Loss: 0.0235\n",
      "Epoch: 137, Loss: 0.0234\n",
      "Epoch: 138, Loss: 0.0233\n",
      "Epoch: 139, Loss: 0.0233\n",
      "Epoch: 140, Loss: 0.0233\n",
      "Epoch: 141, Loss: 0.0232\n",
      "Epoch: 142, Loss: 0.0231\n",
      "Epoch: 143, Loss: 0.0231\n",
      "Epoch: 144, Loss: 0.0231\n",
      "Epoch: 145, Loss: 0.0230\n",
      "Epoch: 146, Loss: 0.0229\n",
      "Epoch: 147, Loss: 0.0229\n",
      "Epoch: 148, Loss: 0.0229\n",
      "Epoch: 149, Loss: 0.0228\n",
      "Epoch: 150, Loss: 0.0228\n",
      "Epoch: 151, Loss: 0.0227\n",
      "Epoch: 152, Loss: 0.0227\n",
      "Epoch: 153, Loss: 0.0227\n",
      "Epoch: 154, Loss: 0.0226\n",
      "Epoch: 155, Loss: 0.0226\n",
      "Epoch: 156, Loss: 0.0225\n",
      "Epoch: 157, Loss: 0.0225\n",
      "Epoch: 158, Loss: 0.0225\n",
      "Epoch: 159, Loss: 0.0224\n",
      "Epoch: 160, Loss: 0.0224\n",
      "Epoch: 161, Loss: 0.0223\n",
      "Epoch: 162, Loss: 0.0223\n",
      "Epoch: 163, Loss: 0.0222\n",
      "Epoch: 164, Loss: 0.0222\n",
      "Epoch: 165, Loss: 0.0222\n",
      "Epoch: 166, Loss: 0.0222\n",
      "Epoch: 167, Loss: 0.0221\n",
      "Epoch: 168, Loss: 0.0221\n",
      "Epoch: 169, Loss: 0.0221\n",
      "Epoch: 170, Loss: 0.0220\n",
      "Epoch: 171, Loss: 0.0220\n",
      "Epoch: 172, Loss: 0.0219\n",
      "Epoch: 173, Loss: 0.0219\n",
      "Epoch: 174, Loss: 0.0219\n",
      "Epoch: 175, Loss: 0.0218\n",
      "Epoch: 176, Loss: 0.0218\n",
      "Epoch: 177, Loss: 0.0218\n",
      "Epoch: 178, Loss: 0.0218\n",
      "Epoch: 179, Loss: 0.0218\n",
      "Epoch: 180, Loss: 0.0218\n",
      "Epoch: 181, Loss: 0.0219\n",
      "Epoch: 182, Loss: 0.0219\n",
      "Epoch: 183, Loss: 0.0220\n",
      "Epoch: 184, Loss: 0.0221\n",
      "Epoch: 185, Loss: 0.0222\n",
      "Epoch: 186, Loss: 0.0222\n",
      "Epoch: 187, Loss: 0.0228\n",
      "Epoch: 188, Loss: 0.0240\n",
      "Epoch: 189, Loss: 0.0274\n",
      "Epoch: 190, Loss: 0.0287\n",
      "Epoch: 191, Loss: 0.0229\n",
      "Epoch: 192, Loss: 0.0216\n",
      "Epoch: 193, Loss: 0.0206\n",
      "Epoch: 194, Loss: 0.0212\n",
      "Epoch: 195, Loss: 0.0191\n",
      "Epoch: 196, Loss: 0.0214\n",
      "Epoch: 197, Loss: 0.0187\n",
      "Epoch: 198, Loss: 0.0219\n",
      "Epoch: 199, Loss: 0.0189\n",
      "Epoch: 200, Loss: 0.0221\n"
     ]
    }
   ],
   "source": [
    "num_hidden_features = 64\n",
    "model = GCN(dataset.num_node_features, num_hidden_features, dataset.num_classes)\n",
    "criterion = torch.nn.CrossEntropyLoss()  # Define loss criterion.\n",
    "optimizer = torch.optim.Adam(model.parameters(), lr=0.01, weight_decay=5e-4)  # Define optimizer.\n",
    "\n",
    "def train():\n",
    "      model.train()\n",
    "      optimizer.zero_grad()  # Clear gradients.\n",
    "      out = model(data.x, edge_index)  # Perform a single forward pass.\n",
    "      loss = criterion(out[data.train_mask], data.y[data.train_mask])  # Compute the loss solely based on the training nodes.\n",
    "      loss.backward()  # Derive gradients.\n",
    "      optimizer.step()  # Update parameters based on gradients.\n",
    "      return loss\n",
    "\n",
    "def test():\n",
    "      model.eval()\n",
    "      out = model(data.x, edge_index)\n",
    "      pred = out.argmax(dim=1)  # Use the class with highest probability.\n",
    "      test_correct = pred[data.test_mask] == data.y[data.test_mask]  # Check against ground-truth labels.\n",
    "      test_acc = int(test_correct.sum()) / int(data.test_mask.sum())  # Derive ratio of correct predictions.\n",
    "      return test_acc\n",
    "\n",
    "for epoch in range(1, 201):\n",
    "    loss = train()\n",
    "    print(f'Epoch: {epoch:03d}, Loss: {loss:.4f}')"
   ]
  },
  {
   "cell_type": "code",
   "execution_count": 19,
   "id": "74dcc702",
   "metadata": {},
   "outputs": [
    {
     "name": "stdout",
     "output_type": "stream",
     "text": [
      "Test Accuracy: 0.7840\n"
     ]
    }
   ],
   "source": [
    "test_acc = test()\n",
    "print(f'Test Accuracy: {test_acc:.4f}')"
   ]
  },
  {
   "cell_type": "markdown",
   "id": "d7e84286",
   "metadata": {},
   "source": [
    "# 3. Train GCN with Riemannian Adam"
   ]
  },
  {
   "cell_type": "code",
   "execution_count": 20,
   "id": "8e3bf0e0",
   "metadata": {},
   "outputs": [
    {
     "ename": "ModuleNotFoundError",
     "evalue": "No module named 'layers'",
     "output_type": "error",
     "traceback": [
      "\u001b[31m---------------------------------------------------------------------------\u001b[39m",
      "\u001b[31mModuleNotFoundError\u001b[39m                       Traceback (most recent call last)",
      "\u001b[36mCell\u001b[39m\u001b[36m \u001b[39m\u001b[32mIn[20]\u001b[39m\u001b[32m, line 3\u001b[39m\n\u001b[32m      1\u001b[39m \u001b[38;5;28;01mfrom\u001b[39;00m\u001b[38;5;250m \u001b[39m\u001b[34;01mgeoopt\u001b[39;00m\u001b[34;01m.\u001b[39;00m\u001b[34;01moptim\u001b[39;00m\u001b[38;5;250m \u001b[39m\u001b[38;5;28;01mimport\u001b[39;00m RiemannianAdam\n\u001b[32m      2\u001b[39m \u001b[38;5;28;01mfrom\u001b[39;00m\u001b[38;5;250m \u001b[39m\u001b[34;01mhgcn\u001b[39;00m\u001b[34;01m.\u001b[39;00m\u001b[34;01mmodels\u001b[39;00m\u001b[34;01m.\u001b[39;00m\u001b[34;01mencoders\u001b[39;00m\u001b[38;5;250m \u001b[39m\u001b[38;5;28;01mimport\u001b[39;00m HGCN\n\u001b[32m----> \u001b[39m\u001b[32m3\u001b[39m \u001b[38;5;28;01mfrom\u001b[39;00m\u001b[38;5;250m \u001b[39m\u001b[34;01mhgcn\u001b[39;00m\u001b[34;01m.\u001b[39;00m\u001b[34;01mmodels\u001b[39;00m\u001b[34;01m.\u001b[39;00m\u001b[34;01mdecoders\u001b[39;00m\u001b[38;5;250m \u001b[39m\u001b[38;5;28;01mimport\u001b[39;00m model2decoder\n\u001b[32m      4\u001b[39m \u001b[38;5;28;01mfrom\u001b[39;00m\u001b[38;5;250m \u001b[39m\u001b[34;01mhgcn\u001b[39;00m\u001b[34;01m.\u001b[39;00m\u001b[34;01mutils\u001b[39;00m\u001b[34;01m.\u001b[39;00m\u001b[34;01mdata_utils\u001b[39;00m\u001b[38;5;250m \u001b[39m\u001b[38;5;28;01mimport\u001b[39;00m load_citation_data\n",
      "\u001b[36mFile \u001b[39m\u001b[32m~/Documents/da_masters/srp/hyperbolic_optimization_srp/notebooks/../hgcn/models/decoders.py:6\u001b[39m\n\u001b[32m      3\u001b[39m \u001b[38;5;28;01mimport\u001b[39;00m\u001b[38;5;250m \u001b[39m\u001b[34;01mtorch\u001b[39;00m\u001b[34;01m.\u001b[39;00m\u001b[34;01mnn\u001b[39;00m\u001b[34;01m.\u001b[39;00m\u001b[34;01mfunctional\u001b[39;00m\u001b[38;5;250m \u001b[39m\u001b[38;5;28;01mas\u001b[39;00m\u001b[38;5;250m \u001b[39m\u001b[34;01mF\u001b[39;00m\n\u001b[32m      5\u001b[39m \u001b[38;5;28;01mimport\u001b[39;00m\u001b[38;5;250m \u001b[39m\u001b[34;01mhgcn\u001b[39;00m\u001b[34;01m.\u001b[39;00m\u001b[34;01mmanifolds\u001b[39;00m\u001b[38;5;250m \u001b[39m\u001b[38;5;28;01mas\u001b[39;00m\u001b[38;5;250m \u001b[39m\u001b[34;01mmanifolds\u001b[39;00m\n\u001b[32m----> \u001b[39m\u001b[32m6\u001b[39m \u001b[38;5;28;01mfrom\u001b[39;00m\u001b[38;5;250m \u001b[39m\u001b[34;01mlayers\u001b[39;00m\u001b[34;01m.\u001b[39;00m\u001b[34;01matt_layers\u001b[39;00m\u001b[38;5;250m \u001b[39m\u001b[38;5;28;01mimport\u001b[39;00m GraphAttentionLayer\n\u001b[32m      7\u001b[39m \u001b[38;5;28;01mfrom\u001b[39;00m\u001b[38;5;250m \u001b[39m\u001b[34;01mlayers\u001b[39;00m\u001b[34;01m.\u001b[39;00m\u001b[34;01mlayers\u001b[39;00m\u001b[38;5;250m \u001b[39m\u001b[38;5;28;01mimport\u001b[39;00m GraphConvolution, Linear\n\u001b[32m     10\u001b[39m \u001b[38;5;28;01mclass\u001b[39;00m\u001b[38;5;250m \u001b[39m\u001b[34;01mDecoder\u001b[39;00m(nn.Module):\n",
      "\u001b[31mModuleNotFoundError\u001b[39m: No module named 'layers'"
     ]
    }
   ],
   "source": [
    "from geoopt.optim import RiemannianAdam\n",
    "from hgcn.models.encoders import HGCN\n",
    "from hgcn.models.decoders import model2decoder\n",
    "from hgcn.utils.data_utils import load_citation_data"
   ]
  },
  {
   "cell_type": "code",
   "execution_count": 16,
   "id": "e595c9a7",
   "metadata": {},
   "outputs": [],
   "source": [
    "adj, features, labels, idx_train, idx_val, idx_test = load_citation_data(dataset_str=\"cora\", use_feats=True, data_path=\"../data/cora/\")"
   ]
  },
  {
   "cell_type": "code",
   "execution_count": 17,
   "id": "11ed25dd",
   "metadata": {},
   "outputs": [
    {
     "data": {
      "text/plain": [
       "(array([   0,    0,    0, ..., 2707, 2707, 2707], shape=(10556,)),\n",
       " array([ 633, 1862, 2582, ...,  598, 1473, 2706], shape=(10556,)))"
      ]
     },
     "execution_count": 17,
     "metadata": {},
     "output_type": "execute_result"
    }
   ],
   "source": [
    "np.nonzero(adj.toarray())"
   ]
  },
  {
   "cell_type": "code",
   "execution_count": 18,
   "id": "6fe2fecf",
   "metadata": {},
   "outputs": [
    {
     "data": {
      "text/plain": [
       "tensor([[ 633, 1862, 2582,  ...,  598, 1473, 2706],\n",
       "        [   0,    0,    0,  ..., 2707, 2707, 2707]])"
      ]
     },
     "execution_count": 18,
     "metadata": {},
     "output_type": "execute_result"
    }
   ],
   "source": [
    "edge_index"
   ]
  },
  {
   "cell_type": "code",
   "execution_count": null,
   "id": "3e1e7c06",
   "metadata": {},
   "outputs": [],
   "source": [
    "model = HGCN()"
   ]
  }
 ],
 "metadata": {
  "kernelspec": {
   "display_name": "hyperbolic_optimization_srp",
   "language": "python",
   "name": "python3"
  },
  "language_info": {
   "codemirror_mode": {
    "name": "ipython",
    "version": 3
   },
   "file_extension": ".py",
   "mimetype": "text/x-python",
   "name": "python",
   "nbconvert_exporter": "python",
   "pygments_lexer": "ipython3",
   "version": "3.13.2"
  }
 },
 "nbformat": 4,
 "nbformat_minor": 5
}
