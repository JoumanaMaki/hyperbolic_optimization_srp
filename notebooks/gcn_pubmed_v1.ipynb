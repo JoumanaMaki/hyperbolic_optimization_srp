{
 "cells": [
  {
   "cell_type": "markdown",
   "id": "8ec976d6",
   "metadata": {},
   "source": []
  },
  {
   "cell_type": "markdown",
   "id": "3cda5525",
   "metadata": {},
   "source": [
    "# GCN on **PubMed** (Planetoid) with PyTorch Geometric"
   ]
  },
  {
   "cell_type": "markdown",
   "id": "5e538aad",
   "metadata": {},
   "source": [
    "- PubMed is larger than Cora (19,717 nodes, 88,648 edges, 500 features, 3 classes)\n",
    "- Defaults below: hidden=16, lr=0.01, weight_decay=5e-4, dropout=0.5.\n",
    "\n",
    "\n",
    "The PubMed dataset consists of 19,717 scientific publications from the PubMed database, each classified into one of three classes (diabetes types).\n",
    "\n",
    "The citation network contains 88,648 links.\n",
    "\n",
    "Each publication is represented by a TF/IDF-weighted word vector indicating the presence importance of words from the dictionary.\n",
    "\n",
    "The dictionary consists of 500 unique words."
   ]
  },
  {
   "cell_type": "code",
   "execution_count": 1,
   "id": "d9ac3d60",
   "metadata": {},
   "outputs": [],
   "source": [
    "%load_ext autoreload\n",
    "%autoreload 2"
   ]
  },
  {
   "cell_type": "code",
   "execution_count": 2,
   "id": "6e40ed3b",
   "metadata": {},
   "outputs": [],
   "source": [
    "import sys\n",
    "import numpy as np\n",
    "import networkx as nx\n",
    "import torch\n",
    "from torch_geometric.datasets import TUDataset, Planetoid\n",
    "from torch_geometric.transforms import NormalizeFeatures\n",
    "\n",
    "sys.path.append(\"..\")\n",
    "from models.node_clf.gcn.basic_gcn import GCN\n",
    "from utils.seed_everything import seed_everything"
   ]
  },
  {
   "cell_type": "code",
   "execution_count": 3,
   "id": "91d5622d",
   "metadata": {},
   "outputs": [],
   "source": [
    "seed_everything()"
   ]
  },
  {
   "cell_type": "code",
   "execution_count": 7,
   "id": "595139c6",
   "metadata": {},
   "outputs": [
    {
     "name": "stdout",
     "output_type": "stream",
     "text": [
      "\n",
      "Dataset: PubMed():\n",
      "====================\n",
      "Number of graphs: 1\n",
      "Number of features: 500\n",
      "Number of classes: 3\n",
      "\n",
      "Data(x=[19717, 500], edge_index=[2, 88648], y=[19717], train_mask=[19717], val_mask=[19717], test_mask=[19717])\n",
      "=============================================================\n",
      "Number of nodes: 19717\n",
      "Number of edges: 88648\n",
      "Average node degree: 4.50\n",
      "Has isolated nodes: False\n",
      "Has self-loops: False\n",
      "Is undirected: True\n"
     ]
    }
   ],
   "source": [
    "dataset = Planetoid(root='data/Planetoid', name='PubMed', transform=NormalizeFeatures())\n",
    "\n",
    "print()\n",
    "print(f'Dataset: {dataset}:')\n",
    "print('====================')\n",
    "print(f'Number of graphs: {len(dataset)}')\n",
    "print(f'Number of features: {dataset.num_features}')\n",
    "print(f'Number of classes: {dataset.num_classes}')\n",
    "\n",
    "data = dataset[0] \n",
    "print()\n",
    "print(data)\n",
    "print('=============================================================')\n",
    "\n",
    "# Gather some statistics about the first graph.\n",
    "print(f'Number of nodes: {data.num_nodes}')\n",
    "print(f'Number of edges: {data.num_edges}')\n",
    "print(f'Average node degree: {data.num_edges / data.num_nodes:.2f}')\n",
    "print(f'Has isolated nodes: {data.has_isolated_nodes()}')\n",
    "print(f'Has self-loops: {data.has_self_loops()}')\n",
    "print(f'Is undirected: {data.is_undirected()}')"
   ]
  },
  {
   "cell_type": "code",
   "execution_count": 8,
   "id": "920b6ee9",
   "metadata": {},
   "outputs": [
    {
     "data": {
      "text/plain": [
       "(array([0, 1, 2]), array([4103, 7739, 7875]))"
      ]
     },
     "execution_count": 8,
     "metadata": {},
     "output_type": "execute_result"
    }
   ],
   "source": [
    "# 3 CLASSES\n",
    "np.unique(data.y, return_counts=True)"
   ]
  },
  {
   "cell_type": "code",
   "execution_count": 9,
   "id": "a6870d40",
   "metadata": {},
   "outputs": [
    {
     "data": {
      "text/plain": [
       "torch.Size([2, 88648])"
      ]
     },
     "execution_count": 9,
     "metadata": {},
     "output_type": "execute_result"
    }
   ],
   "source": [
    "data.edge_index.shape"
   ]
  },
  {
   "cell_type": "code",
   "execution_count": 10,
   "id": "7d6018f2",
   "metadata": {},
   "outputs": [
    {
     "data": {
      "text/plain": [
       "tensor([[ 1378,  1544,  6092,  ..., 12278,  4284, 16030],\n",
       "        [    0,     0,     0,  ..., 19714, 19715, 19716]])"
      ]
     },
     "execution_count": 10,
     "metadata": {},
     "output_type": "execute_result"
    }
   ],
   "source": [
    "# adjacency matrix \n",
    "data.edge_index"
   ]
  },
  {
   "cell_type": "code",
   "execution_count": 11,
   "id": "d08e789d",
   "metadata": {},
   "outputs": [
    {
     "data": {
      "text/plain": [
       "(torch.Size([19717]), 19717)"
      ]
     },
     "execution_count": 11,
     "metadata": {},
     "output_type": "execute_result"
    }
   ],
   "source": [
    "# node classes (target), nb of nodes\n",
    "data.y.shape, data.num_nodes"
   ]
  },
  {
   "cell_type": "code",
   "execution_count": 12,
   "id": "6135eb4e",
   "metadata": {},
   "outputs": [
    {
     "data": {
      "text/plain": [
       "torch.Size([19717, 500])"
      ]
     },
     "execution_count": 12,
     "metadata": {},
     "output_type": "execute_result"
    }
   ],
   "source": [
    "# node features, each node has a bag-of-wrods of size 500\n",
    "data.x.shape"
   ]
  },
  {
   "cell_type": "code",
   "execution_count": 13,
   "id": "c76c18ed",
   "metadata": {},
   "outputs": [
    {
     "name": "stdout",
     "output_type": "stream",
     "text": [
      "torch.Size([2, 88648])\n",
      "Number of unique undirected edges: 44324\n"
     ]
    }
   ],
   "source": [
    "edge_index = data.edge_index\n",
    "print(edge_index.shape)  # [2, 88648]\n",
    "\n",
    "# Count unique undirected edges\n",
    "edges = edge_index.t().tolist() \n",
    "undirected_edges = set(tuple(sorted(edge)) for edge in edges)\n",
    "\n",
    "print(\"Number of unique undirected edges:\", len(undirected_edges))"
   ]
  },
  {
   "cell_type": "code",
   "execution_count": 14,
   "id": "c4853769",
   "metadata": {},
   "outputs": [],
   "source": [
    "torch.manual_seed(12345)\n",
    "dataset = dataset.shuffle()\n",
    "\n",
    "train_dataset = dataset[:150]\n",
    "test_dataset = dataset[150:]"
   ]
  },
  {
   "cell_type": "code",
   "execution_count": 15,
   "id": "46502d0c",
   "metadata": {},
   "outputs": [
    {
     "name": "stdout",
     "output_type": "stream",
     "text": [
      "Step 1:\n",
      "=======\n",
      "Number of graphs in the current batch: 1\n",
      "DataBatch(x=[19717, 500], edge_index=[2, 88648], y=[19717], train_mask=[19717], val_mask=[19717], test_mask=[19717], batch=[19717], ptr=[2])\n",
      "\n"
     ]
    }
   ],
   "source": [
    "from torch_geometric.loader import DataLoader\n",
    "\n",
    "train_loader = DataLoader(train_dataset, batch_size=64, shuffle=True)\n",
    "test_loader = DataLoader(test_dataset, batch_size=64, shuffle=False)\n",
    "\n",
    "for step, data in enumerate(train_loader):\n",
    "    print(f'Step {step + 1}:')\n",
    "    print('=======')\n",
    "    print(f'Number of graphs in the current batch: {data.num_graphs}')\n",
    "    print(data)\n",
    "    print()"
   ]
  },
  {
   "cell_type": "code",
   "execution_count": null,
   "id": "d52f0fef",
   "metadata": {},
   "outputs": [
    {
     "data": {
      "text/plain": [
       "3"
      ]
     },
     "execution_count": 18,
     "metadata": {},
     "output_type": "execute_result"
    }
   ],
   "source": [
    "dataset.num_classes"
   ]
  },
  {
   "cell_type": "code",
   "execution_count": 23,
   "id": "af0a42f1",
   "metadata": {},
   "outputs": [
    {
     "name": "stdout",
     "output_type": "stream",
     "text": [
      "Epoch: 001, Loss: 1.0998\n",
      "Epoch: 002, Loss: 1.0962\n",
      "Epoch: 003, Loss: 1.0933\n",
      "Epoch: 004, Loss: 1.0883\n",
      "Epoch: 005, Loss: 1.0813\n",
      "Epoch: 006, Loss: 1.0725\n",
      "Epoch: 007, Loss: 1.0685\n",
      "Epoch: 008, Loss: 1.0603\n",
      "Epoch: 009, Loss: 1.0510\n",
      "Epoch: 010, Loss: 1.0439\n",
      "Epoch: 011, Loss: 1.0318\n",
      "Epoch: 012, Loss: 1.0157\n",
      "Epoch: 013, Loss: 1.0102\n",
      "Epoch: 014, Loss: 0.9992\n",
      "Epoch: 015, Loss: 0.9960\n",
      "Epoch: 016, Loss: 0.9780\n",
      "Epoch: 017, Loss: 0.9656\n",
      "Epoch: 018, Loss: 0.9528\n",
      "Epoch: 019, Loss: 0.9503\n",
      "Epoch: 020, Loss: 0.9308\n",
      "Epoch: 021, Loss: 0.9218\n",
      "Epoch: 022, Loss: 0.9066\n",
      "Epoch: 023, Loss: 0.8828\n",
      "Epoch: 024, Loss: 0.8804\n",
      "Epoch: 025, Loss: 0.8642\n",
      "Epoch: 026, Loss: 0.8555\n",
      "Epoch: 027, Loss: 0.8250\n",
      "Epoch: 028, Loss: 0.8334\n",
      "Epoch: 029, Loss: 0.7858\n",
      "Epoch: 030, Loss: 0.7982\n",
      "Epoch: 031, Loss: 0.7790\n",
      "Epoch: 032, Loss: 0.7788\n",
      "Epoch: 033, Loss: 0.7780\n",
      "Epoch: 034, Loss: 0.7632\n",
      "Epoch: 035, Loss: 0.7128\n",
      "Epoch: 036, Loss: 0.7041\n",
      "Epoch: 037, Loss: 0.6901\n",
      "Epoch: 038, Loss: 0.7056\n",
      "Epoch: 039, Loss: 0.7072\n",
      "Epoch: 040, Loss: 0.6629\n",
      "Epoch: 041, Loss: 0.6666\n",
      "Epoch: 042, Loss: 0.6426\n",
      "Epoch: 043, Loss: 0.6423\n",
      "Epoch: 044, Loss: 0.6220\n",
      "Epoch: 045, Loss: 0.5752\n",
      "Epoch: 046, Loss: 0.6053\n",
      "Epoch: 047, Loss: 0.5707\n",
      "Epoch: 048, Loss: 0.5599\n",
      "Epoch: 049, Loss: 0.5564\n",
      "Epoch: 050, Loss: 0.5456\n",
      "Epoch: 051, Loss: 0.5689\n",
      "Epoch: 052, Loss: 0.5399\n",
      "Epoch: 053, Loss: 0.5266\n",
      "Epoch: 054, Loss: 0.5177\n",
      "Epoch: 055, Loss: 0.5032\n",
      "Epoch: 056, Loss: 0.4865\n",
      "Epoch: 057, Loss: 0.4740\n",
      "Epoch: 058, Loss: 0.4985\n",
      "Epoch: 059, Loss: 0.4642\n",
      "Epoch: 060, Loss: 0.4443\n",
      "Epoch: 061, Loss: 0.4890\n",
      "Epoch: 062, Loss: 0.4546\n",
      "Epoch: 063, Loss: 0.4403\n",
      "Epoch: 064, Loss: 0.4423\n",
      "Epoch: 065, Loss: 0.4306\n",
      "Epoch: 066, Loss: 0.4172\n",
      "Epoch: 067, Loss: 0.3959\n",
      "Epoch: 068, Loss: 0.3843\n",
      "Epoch: 069, Loss: 0.3743\n",
      "Epoch: 070, Loss: 0.4091\n",
      "Epoch: 071, Loss: 0.4635\n",
      "Epoch: 072, Loss: 0.3968\n",
      "Epoch: 073, Loss: 0.4125\n",
      "Epoch: 074, Loss: 0.3458\n",
      "Epoch: 075, Loss: 0.4164\n",
      "Epoch: 076, Loss: 0.4004\n",
      "Epoch: 077, Loss: 0.3616\n",
      "Epoch: 078, Loss: 0.3286\n",
      "Epoch: 079, Loss: 0.3614\n",
      "Epoch: 080, Loss: 0.3422\n",
      "Epoch: 081, Loss: 0.3018\n",
      "Epoch: 082, Loss: 0.3427\n",
      "Epoch: 083, Loss: 0.3252\n",
      "Epoch: 084, Loss: 0.3276\n",
      "Epoch: 085, Loss: 0.3358\n",
      "Epoch: 086, Loss: 0.3963\n",
      "Epoch: 087, Loss: 0.3013\n",
      "Epoch: 088, Loss: 0.3412\n",
      "Epoch: 089, Loss: 0.3378\n",
      "Epoch: 090, Loss: 0.3310\n",
      "Epoch: 091, Loss: 0.3636\n",
      "Epoch: 092, Loss: 0.3544\n",
      "Epoch: 093, Loss: 0.2895\n",
      "Epoch: 094, Loss: 0.3057\n",
      "Epoch: 095, Loss: 0.3434\n",
      "Epoch: 096, Loss: 0.2814\n",
      "Epoch: 097, Loss: 0.3221\n",
      "Epoch: 098, Loss: 0.3061\n",
      "Epoch: 099, Loss: 0.2843\n",
      "Epoch: 100, Loss: 0.2807\n",
      "Epoch: 101, Loss: 0.3257\n",
      "Epoch: 102, Loss: 0.2665\n",
      "Epoch: 103, Loss: 0.2609\n",
      "Epoch: 104, Loss: 0.3067\n",
      "Epoch: 105, Loss: 0.2902\n",
      "Epoch: 106, Loss: 0.3156\n",
      "Epoch: 107, Loss: 0.2851\n",
      "Epoch: 108, Loss: 0.2680\n",
      "Epoch: 109, Loss: 0.2979\n",
      "Epoch: 110, Loss: 0.2849\n",
      "Epoch: 111, Loss: 0.2740\n",
      "Epoch: 112, Loss: 0.2499\n",
      "Epoch: 113, Loss: 0.2895\n",
      "Epoch: 114, Loss: 0.2483\n",
      "Epoch: 115, Loss: 0.2730\n",
      "Epoch: 116, Loss: 0.2417\n",
      "Epoch: 117, Loss: 0.2391\n",
      "Epoch: 118, Loss: 0.2870\n",
      "Epoch: 119, Loss: 0.2175\n",
      "Epoch: 120, Loss: 0.2394\n",
      "Epoch: 121, Loss: 0.2553\n",
      "Epoch: 122, Loss: 0.2543\n",
      "Epoch: 123, Loss: 0.2493\n",
      "Epoch: 124, Loss: 0.2308\n",
      "Epoch: 125, Loss: 0.2447\n",
      "Epoch: 126, Loss: 0.2518\n",
      "Epoch: 127, Loss: 0.2423\n",
      "Epoch: 128, Loss: 0.2538\n",
      "Epoch: 129, Loss: 0.2180\n",
      "Epoch: 130, Loss: 0.2442\n",
      "Epoch: 131, Loss: 0.2485\n",
      "Epoch: 132, Loss: 0.2425\n",
      "Epoch: 133, Loss: 0.2393\n",
      "Epoch: 134, Loss: 0.2500\n",
      "Epoch: 135, Loss: 0.2891\n",
      "Epoch: 136, Loss: 0.2240\n",
      "Epoch: 137, Loss: 0.2893\n",
      "Epoch: 138, Loss: 0.2087\n",
      "Epoch: 139, Loss: 0.2018\n",
      "Epoch: 140, Loss: 0.2495\n",
      "Epoch: 141, Loss: 0.2625\n",
      "Epoch: 142, Loss: 0.2343\n",
      "Epoch: 143, Loss: 0.2299\n",
      "Epoch: 144, Loss: 0.2745\n",
      "Epoch: 145, Loss: 0.2658\n",
      "Epoch: 146, Loss: 0.2210\n",
      "Epoch: 147, Loss: 0.2055\n",
      "Epoch: 148, Loss: 0.2404\n",
      "Epoch: 149, Loss: 0.2884\n",
      "Epoch: 150, Loss: 0.2310\n",
      "Epoch: 151, Loss: 0.2278\n",
      "Epoch: 152, Loss: 0.2232\n",
      "Epoch: 153, Loss: 0.2629\n",
      "Epoch: 154, Loss: 0.2183\n",
      "Epoch: 155, Loss: 0.2016\n",
      "Epoch: 156, Loss: 0.2396\n",
      "Epoch: 157, Loss: 0.1841\n",
      "Epoch: 158, Loss: 0.1967\n",
      "Epoch: 159, Loss: 0.2479\n",
      "Epoch: 160, Loss: 0.1786\n",
      "Epoch: 161, Loss: 0.1864\n",
      "Epoch: 162, Loss: 0.2308\n",
      "Epoch: 163, Loss: 0.2070\n",
      "Epoch: 164, Loss: 0.2238\n",
      "Epoch: 165, Loss: 0.2842\n",
      "Epoch: 166, Loss: 0.1952\n",
      "Epoch: 167, Loss: 0.2168\n",
      "Epoch: 168, Loss: 0.2314\n",
      "Epoch: 169, Loss: 0.1936\n",
      "Epoch: 170, Loss: 0.2211\n",
      "Epoch: 171, Loss: 0.1664\n",
      "Epoch: 172, Loss: 0.1918\n",
      "Epoch: 173, Loss: 0.1977\n",
      "Epoch: 174, Loss: 0.1976\n",
      "Epoch: 175, Loss: 0.1928\n",
      "Epoch: 176, Loss: 0.1702\n",
      "Epoch: 177, Loss: 0.1766\n",
      "Epoch: 178, Loss: 0.2066\n",
      "Epoch: 179, Loss: 0.1751\n",
      "Epoch: 180, Loss: 0.1858\n",
      "Epoch: 181, Loss: 0.1719\n",
      "Epoch: 182, Loss: 0.2411\n",
      "Epoch: 183, Loss: 0.1986\n",
      "Epoch: 184, Loss: 0.1936\n",
      "Epoch: 185, Loss: 0.2424\n",
      "Epoch: 186, Loss: 0.1888\n",
      "Epoch: 187, Loss: 0.1748\n",
      "Epoch: 188, Loss: 0.1563\n",
      "Epoch: 189, Loss: 0.1916\n",
      "Epoch: 190, Loss: 0.1997\n",
      "Epoch: 191, Loss: 0.1560\n",
      "Epoch: 192, Loss: 0.1736\n",
      "Epoch: 193, Loss: 0.1925\n",
      "Epoch: 194, Loss: 0.2069\n",
      "Epoch: 195, Loss: 0.2110\n",
      "Epoch: 196, Loss: 0.2245\n",
      "Epoch: 197, Loss: 0.1918\n",
      "Epoch: 198, Loss: 0.1785\n",
      "Epoch: 199, Loss: 0.1915\n",
      "Epoch: 200, Loss: 0.1889\n"
     ]
    }
   ],
   "source": [
    "num_hidden_features = 16\n",
    "output_dim = dataset.num_classes\n",
    "model = GCN(dataset.num_node_features, num_hidden_features, output_dim, dropout_p= 0.5)\n",
    "criterion = torch.nn.CrossEntropyLoss()  # Define loss criterion.\n",
    "optimizer = torch.optim.Adam(model.parameters(), lr=0.01, weight_decay=5e-4)  # Define optimizer.\n",
    "\n",
    "def train():\n",
    "      model.train()\n",
    "      optimizer.zero_grad()  # Clear gradients.\n",
    "      out = model(data.x, edge_index)  # Perform a single forward pass.\n",
    "      loss = criterion(out[data.train_mask], data.y[data.train_mask])  # Compute the loss solely based on the training nodes.\n",
    "      loss.backward()  # Derive gradients.\n",
    "      optimizer.step()  # Update parameters based on gradients.\n",
    "      return loss\n",
    "\n",
    "def test():\n",
    "      model.eval()\n",
    "      out = model(data.x, edge_index)\n",
    "      pred = out.argmax(dim=1)  # Use the class with highest probability.\n",
    "      test_correct = pred[data.test_mask] == data.y[data.test_mask]  # Check against ground-truth labels.\n",
    "      test_acc = int(test_correct.sum()) / int(data.test_mask.sum())  # Derive ratio of correct predictions.\n",
    "      return test_acc\n",
    "\n",
    "for epoch in range(1, 201):\n",
    "    loss = train()\n",
    "    print(f'Epoch: {epoch:03d}, Loss: {loss:.4f}')"
   ]
  },
  {
   "cell_type": "code",
   "execution_count": 24,
   "id": "38042092",
   "metadata": {},
   "outputs": [
    {
     "name": "stdout",
     "output_type": "stream",
     "text": [
      "Test Accuracy: 0.7890\n"
     ]
    }
   ],
   "source": [
    "test_acc = test()\n",
    "print(f'Test Accuracy: {test_acc:.4f}')"
   ]
  },
  {
   "cell_type": "code",
   "execution_count": null,
   "id": "f1ec1fe4",
   "metadata": {},
   "outputs": [],
   "source": []
  }
 ],
 "metadata": {
  "kernelspec": {
   "display_name": ".venv",
   "language": "python",
   "name": "python3"
  },
  "language_info": {
   "codemirror_mode": {
    "name": "ipython",
    "version": 3
   },
   "file_extension": ".py",
   "mimetype": "text/x-python",
   "name": "python",
   "nbconvert_exporter": "python",
   "pygments_lexer": "ipython3",
   "version": "3.13.6"
  }
 },
 "nbformat": 4,
 "nbformat_minor": 5
}
